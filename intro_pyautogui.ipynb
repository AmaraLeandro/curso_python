{
 "cells": [
  {
   "cell_type": "code",
   "execution_count": 1,
   "id": "c7a820ef",
   "metadata": {},
   "outputs": [],
   "source": [
    "pyautogui.keyDown(\"win\")\n",
    "pyautogui.keyup(\"win\")\n"
   ]
  },
  {
   "cell_type": "code",
   "execution_count": null,
   "id": "4e5e452e",
   "metadata": {},
   "outputs": [],
   "source": [
    "import pyautogui \n",
    "\n",
    "time.sleep(3)\n",
    "pyautogui.position()"
   ]
  },
  {
   "cell_type": "code",
   "execution_count": null,
   "id": "b9043376",
   "metadata": {},
   "outputs": [],
   "source": [
    "time.sleep(4)\n",
    "pyautogui.click()"
   ]
  },
  {
   "cell_type": "code",
   "execution_count": null,
   "id": "03df05c9",
   "metadata": {},
   "outputs": [],
   "source": [
    "pyautogui.size()\n"
   ]
  }
 ],
 "metadata": {
  "kernelspec": {
   "display_name": "Python 3",
   "language": "python",
   "name": "python3"
  },
  "language_info": {
   "codemirror_mode": {
    "name": "ipython",
    "version": 3
   },
   "file_extension": ".py",
   "mimetype": "text/x-python",
   "name": "python",
   "nbconvert_exporter": "python",
   "pygments_lexer": "ipython3",
   "version": "3.8.8"
  }
 },
 "nbformat": 4,
 "nbformat_minor": 5
}
